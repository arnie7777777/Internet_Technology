{
  "nbformat": 4,
  "nbformat_minor": 0,
  "metadata": {
    "colab": {
      "provenance": [],
      "authorship_tag": "ABX9TyMIoWhcBAK4fTOIdn5+Kcrc",
      "include_colab_link": true
    },
    "kernelspec": {
      "name": "python3",
      "display_name": "Python 3"
    },
    "language_info": {
      "name": "python"
    }
  },
  "cells": [
    {
      "cell_type": "markdown",
      "metadata": {
        "id": "view-in-github",
        "colab_type": "text"
      },
      "source": [
        "<a href=\"https://colab.research.google.com/github/arnie7777777/Internet_Technology/blob/main/monte_carlo_simulation.ipynb\" target=\"_parent\"><img src=\"https://colab.research.google.com/assets/colab-badge.svg\" alt=\"Open In Colab\"/></a>"
      ]
    },
    {
      "cell_type": "code",
      "execution_count": 7,
      "metadata": {
        "colab": {
          "base_uri": "https://localhost:8080/"
        },
        "id": "2Nzt33AjXNl0",
        "outputId": "4ec17336-039d-4c9c-deff-43ba073e8e47"
      },
      "outputs": [
        {
          "output_type": "stream",
          "name": "stdout",
          "text": [
            "Average Profit: $-1873.01\n",
            "Probability of Making a Profit: 40.19%\n",
            "Number of prifoitable simulations 4019\n"
          ]
        }
      ],
      "source": [
        "import random\n",
        "\n",
        "# Given data\n",
        "annual_benefits = 35000\n",
        "fixed_costs = 3500\n",
        "project_durations = [32, 21, 25, 40, 29, 25, 42, 33, 20, 16, 22, 44, 32, 37, 31, 20, 24, 24, 31, 35, 29]\n",
        "outsourcing_rates = [868.00, 577.00, 307.00, 341.00, 539.00, 861.00, 342.00, 597.00, 346.00, 316.00, 436.00, 719.00,\n",
        "                     895.00, 827.00, 461.00, 870.00, 783.00, 799.00, 502.00]\n",
        "\n",
        "# Simulation parameters\n",
        "num_simulations = 10000\n",
        "\n",
        "# Define the profit function\n",
        "def calculate_profit(duration, labor_price):\n",
        "    return annual_benefits - (900 * duration + 12 * labor_price + fixed_costs)\n",
        "\n",
        "# Perform Monte Carlo simulation\n",
        "simulation_results = []\n",
        "\n",
        "for nums in range(num_simulations):\n",
        "    # Randomly select project duration and labor price\n",
        "    duration = random.choice(project_durations)\n",
        "    labor_price = random.choice(outsourcing_rates)\n",
        "\n",
        "    # Calculate profit for the current simulation\n",
        "    profit = calculate_profit(duration, labor_price)\n",
        "\n",
        "    simulation_results.append(profit)\n",
        "\n",
        "# Analyze simulation results\n",
        "average_profit = sum(simulation_results) / num_simulations\n",
        "profitable_simulations = sum(1 for result in simulation_results if result > 0)\n",
        "success_probability = profitable_simulations / num_simulations\n",
        "\n",
        "print(f\"Average Profit: ${average_profit:.2f}\")\n",
        "print(f\"Probability of Making a Profit: {success_probability:.2%}\")\n",
        "print(f\"Number of prifoitable simulations {profitable_simulations}\")"
      ]
    },
    {
      "cell_type": "code",
      "source": [
        "import random\n",
        "\n",
        "# Given data\n",
        "annual_benefits = 35000\n",
        "fixed_costs = 3500\n",
        "project_durations = [32, 21, 25, 40, 29, 25, 42, 33, 20, 16, 22, 44, 32, 37, 31, 20, 24, 24, 31, 35, 29]\n",
        "outsourcing_rates = [868.00, 577.00, 307.00, 341.00, 539.00, 861.00, 342.00, 597.00, 346.00, 316.00, 436.00, 719.00,\n",
        "                     895.00, 827.00, 461.00, 870.00, 783.00, 799.00, 502.00]\n",
        "\n",
        "# Simulation parameters\n",
        "num_simulations = 10000\n",
        "\n",
        "# Define the profit function\n",
        "def calculate_profit(duration, labor_price):\n",
        "    return annual_benefits - (900 * duration + 12 * labor_price + fixed_costs)\n",
        "\n",
        "# Perform Monte Carlo simulation\n",
        "simulation_results = []\n",
        "\n",
        "for _ in range(num_simulations):\n",
        "    # Randomly select project duration and labor price\n",
        "    duration = random.choice(project_durations)\n",
        "    labor_price = random.choice(outsourcing_rates)\n",
        "\n",
        "    # Calculate profit for the current simulation\n",
        "    profit = calculate_profit(duration, labor_price)\n",
        "\n",
        "    simulation_results.append(profit)\n",
        "\n",
        "# Analyze simulation results\n",
        "average_profit = sum(simulation_results) / num_simulations\n",
        "profitable_simulations = sum(1 for result in simulation_results if result > 0)\n",
        "success_probability = profitable_simulations / num_simulations\n",
        "\n",
        "# Answer the questions\n",
        "print(f\"1. Completed Monte Carlo analysis using {num_simulations} simulations.\")\n",
        "print(f\"2. The project is likely to make a profit. Average Profit: ${average_profit:.2f}\")\n",
        "print(f\"3. The worst loss we can expect is ${min(simulation_results):.2f}\")\n",
        "print(f\"4. The simulation provides data to justify the project. It shows the probability of making a profit and helps assess the risk associated with uncharacteristically long durations and high labor prices. Simulation plays a vital role in project management by providing insights into potential outcomes and aiding decision-making.\")"
      ],
      "metadata": {
        "colab": {
          "base_uri": "https://localhost:8080/"
        },
        "id": "9Iw8wjxib0ry",
        "outputId": "49217f82-d6c0-4755-8b33-a9882ba3fba3"
      },
      "execution_count": 26,
      "outputs": [
        {
          "output_type": "stream",
          "name": "stdout",
          "text": [
            "1. Completed Monte Carlo analysis using 10000 simulations.\n",
            "2. The project is likely to make a profit. Average Profit: $-1989.33\n",
            "3. The worst loss we can expect is $-18840.00\n",
            "4. The simulation provides data to justify the project. It shows the probability of making a profit and helps assess the risk associated with uncharacteristically long durations and high labor prices. Simulation plays a vital role in project management by providing insights into potential outcomes and aiding decision-making.\n"
          ]
        }
      ]
    },
    {
      "cell_type": "code",
      "source": [
        "import random\n",
        "\n",
        "# Provided data\n",
        "project_durations = [32, 21, 25, 40, 29, 25, 42, 33, 20, 16, 22, 44, 32, 37, 31, 20, 24, 24, 31, 35, 29]\n",
        "outsourcing_rates = [868.00, 577.00, 307.00, 341.00, 539.00, 861.00, 342.00, 597.00, 346.00, 316.00,\n",
        "                     436.00, 719.00, 895.00, 827.00, 461.00, 870.00, 783.00, 799.00, 502.00]\n",
        "\n",
        "# Constants\n",
        "fixed_costs = 3500\n",
        "annual_benefits = 35000\n",
        "\n",
        "# Number of iterations for Monte Carlo simulation\n",
        "num_iterations = 1000\n",
        "\n",
        "# Function to calculate profit based on project duration (D) and labor price (L)\n",
        "def calculate_profit(duration, labor_price):\n",
        "    return annual_benefits - (900 * duration + 12 * labor_price + fixed_costs)\n",
        "\n",
        "# Monte Carlo simulation\n",
        "profits = []\n",
        "for _ in range(num_iterations):\n",
        "    random_duration = random.choice(project_durations)\n",
        "    random_labor_price = random.choice(outsourcing_rates)\n",
        "    profit = calculate_profit(random_duration, random_labor_price)\n",
        "    profits.append(profit)\n",
        "\n",
        "# Calculate the average profit\n",
        "average_profit = sum(profits) / num_iterations\n",
        "\n",
        "# Calculate the worst loss\n",
        "worst_loss = min(profits)\n",
        "best_loss = max(profits)\n",
        "\n",
        "# Output results\n",
        "print(\"1. Monte Carlo Analysis Results:\")\n",
        "print(\"Average Profit:\", average_profit)\n",
        "print(\"Worst Loss:\", worst_loss)\n",
        "print(\"Best Profit\", best_loss)\n",
        "\n",
        "# Check if the project is likely to make a profit\n",
        "is_profitable = average_profit > 0\n",
        "print(\"\\n2. Project Profitability:\", \"Yes\" if is_profitable else \"No\")\n"
      ],
      "metadata": {
        "colab": {
          "base_uri": "https://localhost:8080/"
        },
        "id": "MNuMZZ3ccofG",
        "outputId": "e48a5fc6-e409-4514-aea4-97f24949168e"
      },
      "execution_count": 36,
      "outputs": [
        {
          "output_type": "stream",
          "name": "stdout",
          "text": [
            "1. Monte Carlo Analysis Results:\n",
            "Average Profit: -1954.032\n",
            "Worst Loss: -18840.0\n",
            "Best Profit 13416.0\n",
            "\n",
            "2. Project Profitability: No\n"
          ]
        }
      ]
    }
  ]
}